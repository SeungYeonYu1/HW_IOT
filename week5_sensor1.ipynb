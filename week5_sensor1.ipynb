{
  "nbformat": 4,
  "nbformat_minor": 0,
  "metadata": {
    "colab": {
      "provenance": [],
      "authorship_tag": "ABX9TyP6xx2Ksqzk0W0uejEc/ze6",
      "include_colab_link": true
    },
    "kernelspec": {
      "name": "python3",
      "display_name": "Python 3"
    },
    "language_info": {
      "name": "python"
    }
  },
  "cells": [
    {
      "cell_type": "markdown",
      "metadata": {
        "id": "view-in-github",
        "colab_type": "text"
      },
      "source": [
        "<a href=\"https://colab.research.google.com/github/SeungYeonYu1/HW_IOT/blob/main/week5_sensor1.ipynb\" target=\"_parent\"><img src=\"https://colab.research.google.com/assets/colab-badge.svg\" alt=\"Open In Colab\"/></a>"
      ]
    },
    {
      "cell_type": "code",
      "execution_count": 1,
      "metadata": {
        "colab": {
          "base_uri": "https://localhost:8080/"
        },
        "id": "RiPu7kkIOW0W",
        "outputId": "8cf86e41-2343-4ae5-db53-905f01175f55"
      },
      "outputs": [
        {
          "output_type": "stream",
          "name": "stdout",
          "text": [
            "Collecting paho-mqtt\n",
            "  Downloading paho_mqtt-2.0.0-py3-none-any.whl (66 kB)\n",
            "\u001b[?25l     \u001b[90m━━━━━━━━━━━━━━━━━━━━━━━━━━━━━━━━━━━━━━━━\u001b[0m \u001b[32m0.0/66.9 kB\u001b[0m \u001b[31m?\u001b[0m eta \u001b[36m-:--:--\u001b[0m\r\u001b[2K     \u001b[90m━━━━━━━━━━━━━━━━━━━━━━━━━━━━━━━━━━━━━━━━\u001b[0m \u001b[32m66.9/66.9 kB\u001b[0m \u001b[31m2.3 MB/s\u001b[0m eta \u001b[36m0:00:00\u001b[0m\n",
            "\u001b[?25hInstalling collected packages: paho-mqtt\n",
            "Successfully installed paho-mqtt-2.0.0\n"
          ]
        }
      ],
      "source": [
        "!pip install paho-mqtt"
      ]
    },
    {
      "cell_type": "code",
      "source": [
        "#받아보는 샘플코드\n",
        "import paho.mqtt.client as mqtt\n",
        "\n",
        "def on_connect(client, userdata, flags, reason_code, properties):\n",
        "    print(f\"Connected with result code {reason_code}\")\n",
        "    client.subscribe(\"connectware/indoor/data/#\")\n",
        "\n",
        "def on_message(client, userdata, msg):\n",
        "    print(msg.topic, msg.payload.decode('utf8'))\n",
        "\n",
        "client = mqtt.Client(mqtt.CallbackAPIVersion.VERSION2)\n",
        "client.on_connect = on_connect\n",
        "client.on_message = on_message\n",
        "\n",
        "client.connect(\"damoa.io\", 1883, 60) #브로커\n",
        "client.loop_forever()"
      ],
      "metadata": {
        "colab": {
          "base_uri": "https://localhost:8080/",
          "height": 1000
        },
        "id": "v4UKsdtKO4t7",
        "outputId": "2a9528da-8a7c-4c4c-8a59-1c21fe9f60b1"
      },
      "execution_count": 2,
      "outputs": [
        {
          "output_type": "stream",
          "name": "stdout",
          "text": [
            "Connected with result code Success\n",
            "connectware/indoor/data/1502 {\"dust\":\"7,7\",\"co2\":\"1100\",\"bme680\":\"29.54,28.91,1342078,100697,52.42\",\"time\":\"2024-04-04 17:57:12\", \"serial\":4527, \"ip\":\"203.255.190.49\"}\n",
            "connectware/indoor/data/1501 {\"dust\":\"9,9\",\"co2\":\"398\",\"bme680\":\"28.04,31.81,801072,100648,56.52\",\"time\":\"2024-04-04 17:57:11\", \"serial\":9088, \"ip\":\"203.255.190.49\"}\n",
            "connectware/indoor/data/1503 {\"dust\":\"6,6\",\"co2\":\"948\",\"bme680\":\"28.80,30.90,615125,100653,56.10\",\"time\":\"2024-04-04 17:57:12\", \"serial\":4536, \"ip\":\"203.255.190.49\"}\n",
            "connectware/indoor/data/1502 {\"dust\":\"7,7\",\"co2\":\"1100\",\"bme680\":\"29.54,28.92,1340725,100696,52.42\",\"time\":\"2024-04-04 17:57:13\", \"serial\":4528, \"ip\":\"203.255.190.49\"}\n",
            "connectware/indoor/data/1501 {\"dust\":\"9,9\",\"co2\":\"398\",\"bme680\":\"28.05,31.81,806354,100648,56.60\",\"time\":\"2024-04-04 17:57:12\", \"serial\":9089, \"ip\":\"203.255.190.49\"}\n",
            "connectware/indoor/data/1503 {\"dust\":\"6,6\",\"co2\":\"947\",\"bme680\":\"28.80,30.89,616266,100653,56.02\",\"time\":\"2024-04-04 17:57:13\", \"serial\":4537, \"ip\":\"203.255.190.49\"}\n",
            "connectware/indoor/data/1502 {\"dust\":\"7,7\",\"co2\":\"1099\",\"bme680\":\"29.54,28.90,1346154,100696,52.42\",\"time\":\"2024-04-04 17:57:14\", \"serial\":4529, \"ip\":\"203.255.190.49\"}\n",
            "connectware/indoor/data/1501 {\"dust\":\"9,9\",\"co2\":\"398\",\"bme680\":\"28.04,31.80,806354,100647,56.52\",\"time\":\"2024-04-04 17:57:13\", \"serial\":9090, \"ip\":\"203.255.190.49\"}\n",
            "connectware/indoor/data/1503 {\"dust\":\"6,6\",\"co2\":\"947\",\"bme680\":\"28.80,30.89,616839,100655,55.93\",\"time\":\"2024-04-04 17:57:14\", \"serial\":4538, \"ip\":\"203.255.190.49\"}\n",
            "connectware/indoor/data/1502 {\"dust\":\"8,8\",\"co2\":\"1099\",\"bme680\":\"29.54,28.91,1351626,100697,52.42\",\"time\":\"2024-04-04 17:57:15\", \"serial\":4530, \"ip\":\"203.255.190.49\"}\n",
            "connectware/indoor/data/1501 {\"dust\":\"9,9\",\"co2\":\"398\",\"bme680\":\"28.04,31.79,803945,100648,56.43\",\"time\":\"2024-04-04 17:57:14\", \"serial\":9091, \"ip\":\"203.255.190.49\"}\n",
            "connectware/indoor/data/1503 {\"dust\":\"5,5\",\"co2\":\"947\",\"bme680\":\"28.80,30.90,616839,100654,56.02\",\"time\":\"2024-04-04 17:57:15\", \"serial\":4539, \"ip\":\"203.255.190.49\"}\n",
            "connectware/indoor/data/1502 {\"dust\":\"8,8\",\"co2\":\"1098\",\"bme680\":\"29.54,28.91,1339375,100697,52.42\",\"time\":\"2024-04-04 17:57:16\", \"serial\":4531, \"ip\":\"203.255.190.49\"}\n",
            "connectware/indoor/data/1501 {\"dust\":\"9,9\",\"co2\":\"398\",\"bme680\":\"28.04,31.79,796800,100648,56.52\",\"time\":\"2024-04-04 17:57:15\", \"serial\":9092, \"ip\":\"203.255.190.49\"}\n",
            "connectware/indoor/data/1503 {\"dust\":\"5,5\",\"co2\":\"947\",\"bme680\":\"28.80,30.89,615125,100654,56.02\",\"time\":\"2024-04-04 17:57:16\", \"serial\":4540, \"ip\":\"203.255.190.49\"}\n",
            "connectware/indoor/data/1502 {\"dust\":\"9,9\",\"co2\":\"1098\",\"bme680\":\"29.54,28.90,1338028,100697,52.50\",\"time\":\"2024-04-04 17:57:17\", \"serial\":4532, \"ip\":\"203.255.190.49\"}\n",
            "connectware/indoor/data/1501 {\"dust\":\"9,9\",\"co2\":\"398\",\"bme680\":\"28.04,31.79,805871,100648,56.52\",\"time\":\"2024-04-04 17:57:16\", \"serial\":9093, \"ip\":\"203.255.190.49\"}\n",
            "connectware/indoor/data/1503 {\"dust\":\"5,5\",\"co2\":\"946\",\"bme680\":\"28.80,30.89,615695,100654,56.02\",\"time\":\"2024-04-04 17:57:17\", \"serial\":4541, \"ip\":\"203.255.190.49\"}\n",
            "connectware/indoor/data/1502 {\"dust\":\"9,9\",\"co2\":\"1098\",\"bme680\":\"29.54,28.90,1342078,100697,52.50\",\"time\":\"2024-04-04 17:57:18\", \"serial\":4533, \"ip\":\"203.255.190.49\"}\n",
            "connectware/indoor/data/1501 {\"dust\":\"8,8\",\"co2\":\"398\",\"bme680\":\"28.04,31.78,803464,100649,56.43\",\"time\":\"2024-04-04 17:57:17\", \"serial\":9094, \"ip\":\"203.255.190.49\"}\n",
            "connectware/indoor/data/1503 {\"dust\":\"6,6\",\"co2\":\"946\",\"bme680\":\"28.80,30.88,616839,100654,56.02\",\"time\":\"2024-04-04 17:57:18\", \"serial\":4542, \"ip\":\"203.255.190.49\"}\n",
            "connectware/indoor/data/1502 {\"dust\":\"9,9\",\"co2\":\"1097\",\"bme680\":\"29.54,28.90,1344792,100697,52.42\",\"time\":\"2024-04-04 17:57:19\", \"serial\":4534, \"ip\":\"203.255.190.49\"}\n",
            "connectware/indoor/data/1501 {\"dust\":\"7,7\",\"co2\":\"398\",\"bme680\":\"28.04,31.79,804425,100648,56.52\",\"time\":\"2024-04-04 17:57:18\", \"serial\":9095, \"ip\":\"203.255.190.49\"}\n",
            "connectware/indoor/data/1503 {\"dust\":\"6,6\",\"co2\":\"946\",\"bme680\":\"28.80,30.89,616839,100654,56.02\",\"time\":\"2024-04-04 17:57:19\", \"serial\":4543, \"ip\":\"203.255.190.49\"}\n",
            "connectware/indoor/data/1502 {\"dust\":\"9,9\",\"co2\":\"1097\",\"bme680\":\"29.54,28.90,1340725,100697,52.42\",\"time\":\"2024-04-04 17:57:20\", \"serial\":4535, \"ip\":\"203.255.190.49\"}\n",
            "connectware/indoor/data/1501 {\"dust\":\"9,9\",\"co2\":\"398\",\"bme680\":\"28.04,31.78,811707,100648,56.43\",\"time\":\"2024-04-04 17:57:19\", \"serial\":9096, \"ip\":\"203.255.190.49\"}\n",
            "connectware/indoor/data/1503 {\"dust\":\"4,4\",\"co2\":\"946\",\"bme680\":\"28.80,30.89,615695,100655,56.02\",\"time\":\"2024-04-04 17:57:20\", \"serial\":4544, \"ip\":\"203.255.190.49\"}\n",
            "connectware/indoor/data/1502 {\"dust\":\"9,9\",\"co2\":\"1098\",\"bme680\":\"29.54,28.90,1339375,100697,52.50\",\"time\":\"2024-04-04 17:57:21\", \"serial\":4536, \"ip\":\"203.255.190.49\"}\n",
            "connectware/indoor/data/1501 {\"dust\":\"10,10\",\"co2\":\"398\",\"bme680\":\"28.04,31.77,810729,100649,56.52\",\"time\":\"2024-04-04 17:57:20\", \"serial\":9097, \"ip\":\"203.255.190.49\"}\n",
            "connectware/indoor/data/1503 {\"dust\":\"5,5\",\"co2\":\"945\",\"bme680\":\"28.80,30.89,616839,100654,56.02\",\"time\":\"2024-04-04 17:57:21\", \"serial\":4545, \"ip\":\"203.255.190.49\"}\n",
            "connectware/indoor/data/1502 {\"dust\":\"9,9\",\"co2\":\"1097\",\"bme680\":\"29.54,28.90,1343434,100697,52.42\",\"time\":\"2024-04-04 17:57:22\", \"serial\":4537, \"ip\":\"203.255.190.49\"}\n",
            "connectware/indoor/data/1501 {\"dust\":\"10,11\",\"co2\":\"398\",\"bme680\":\"28.04,31.77,804907,100648,56.52\",\"time\":\"2024-04-04 17:57:21\", \"serial\":9098, \"ip\":\"203.255.190.49\"}\n",
            "connectware/indoor/data/1503 {\"dust\":\"5,5\",\"co2\":\"945\",\"bme680\":\"28.80,30.88,616266,100654,55.93\",\"time\":\"2024-04-04 17:57:22\", \"serial\":4546, \"ip\":\"203.255.190.49\"}\n",
            "connectware/indoor/data/1502 {\"dust\":\"8,8\",\"co2\":\"1097\",\"bme680\":\"29.54,28.90,1343434,100698,52.25\",\"time\":\"2024-04-04 17:57:23\", \"serial\":4538, \"ip\":\"203.255.190.49\"}\n",
            "connectware/indoor/data/1501 {\"dust\":\"10,11\",\"co2\":\"398\",\"bme680\":\"28.04,31.76,809265,100648,56.52\",\"time\":\"2024-04-04 17:57:22\", \"serial\":9099, \"ip\":\"203.255.190.49\"}\n",
            "connectware/indoor/data/1503 {\"dust\":\"6,6\",\"co2\":\"945\",\"bme680\":\"28.80,30.89,616839,100654,56.02\",\"time\":\"2024-04-04 17:57:23\", \"serial\":4547, \"ip\":\"203.255.190.49\"}\n",
            "connectware/indoor/data/1502 {\"dust\":\"7,7\",\"co2\":\"1096\",\"bme680\":\"29.54,28.90,1343434,100698,52.33\",\"time\":\"2024-04-04 17:57:24\", \"serial\":4539, \"ip\":\"203.255.190.49\"}\n",
            "connectware/indoor/data/1501 {\"dust\":\"10,11\",\"co2\":\"398\",\"bme680\":\"28.05,31.77,804907,100648,56.52\",\"time\":\"2024-04-04 17:57:23\", \"serial\":9100, \"ip\":\"203.255.190.49\"}\n",
            "connectware/indoor/data/1503 {\"dust\":\"5,5\",\"co2\":\"945\",\"bme680\":\"28.80,30.88,616266,100653,56.02\",\"time\":\"2024-04-04 17:57:24\", \"serial\":4548, \"ip\":\"203.255.190.49\"}\n",
            "connectware/indoor/data/1502 {\"dust\":\"7,7\",\"co2\":\"1096\",\"bme680\":\"29.54,28.92,1338028,100698,52.25\",\"time\":\"2024-04-04 17:57:25\", \"serial\":4540, \"ip\":\"203.255.190.49\"}\n",
            "connectware/indoor/data/1501 {\"dust\":\"10,10\",\"co2\":\"398\",\"bme680\":\"28.04,31.77,806354,100647,56.60\",\"time\":\"2024-04-04 17:57:24\", \"serial\":9101, \"ip\":\"203.255.190.49\"}\n",
            "connectware/indoor/data/1503 {\"dust\":\"6,6\",\"co2\":\"945\",\"bme680\":\"28.80,30.89,615695,100654,56.10\",\"time\":\"2024-04-04 17:57:25\", \"serial\":4549, \"ip\":\"203.255.190.49\"}\n"
          ]
        },
        {
          "output_type": "error",
          "ename": "KeyboardInterrupt",
          "evalue": "",
          "traceback": [
            "\u001b[0;31m---------------------------------------------------------------------------\u001b[0m",
            "\u001b[0;31mKeyboardInterrupt\u001b[0m                         Traceback (most recent call last)",
            "\u001b[0;32m<ipython-input-2-bfb85ca0106f>\u001b[0m in \u001b[0;36m<cell line: 16>\u001b[0;34m()\u001b[0m\n\u001b[1;32m     14\u001b[0m \u001b[0;34m\u001b[0m\u001b[0m\n\u001b[1;32m     15\u001b[0m \u001b[0mclient\u001b[0m\u001b[0;34m.\u001b[0m\u001b[0mconnect\u001b[0m\u001b[0;34m(\u001b[0m\u001b[0;34m\"damoa.io\"\u001b[0m\u001b[0;34m,\u001b[0m \u001b[0;36m1883\u001b[0m\u001b[0;34m,\u001b[0m \u001b[0;36m60\u001b[0m\u001b[0;34m)\u001b[0m \u001b[0;31m#브로커\u001b[0m\u001b[0;34m\u001b[0m\u001b[0;34m\u001b[0m\u001b[0m\n\u001b[0;32m---> 16\u001b[0;31m \u001b[0mclient\u001b[0m\u001b[0;34m.\u001b[0m\u001b[0mloop_forever\u001b[0m\u001b[0;34m(\u001b[0m\u001b[0;34m)\u001b[0m\u001b[0;34m\u001b[0m\u001b[0;34m\u001b[0m\u001b[0m\n\u001b[0m",
            "\u001b[0;32m/usr/local/lib/python3.10/dist-packages/paho/mqtt/client.py\u001b[0m in \u001b[0;36mloop_forever\u001b[0;34m(self, timeout, retry_first_connection)\u001b[0m\n\u001b[1;32m   2289\u001b[0m             \u001b[0mrc\u001b[0m \u001b[0;34m=\u001b[0m \u001b[0mMQTTErrorCode\u001b[0m\u001b[0;34m.\u001b[0m\u001b[0mMQTT_ERR_SUCCESS\u001b[0m\u001b[0;34m\u001b[0m\u001b[0;34m\u001b[0m\u001b[0m\n\u001b[1;32m   2290\u001b[0m             \u001b[0;32mwhile\u001b[0m \u001b[0mrc\u001b[0m \u001b[0;34m==\u001b[0m \u001b[0mMQTTErrorCode\u001b[0m\u001b[0;34m.\u001b[0m\u001b[0mMQTT_ERR_SUCCESS\u001b[0m\u001b[0;34m:\u001b[0m\u001b[0;34m\u001b[0m\u001b[0;34m\u001b[0m\u001b[0m\n\u001b[0;32m-> 2291\u001b[0;31m                 \u001b[0mrc\u001b[0m \u001b[0;34m=\u001b[0m \u001b[0mself\u001b[0m\u001b[0;34m.\u001b[0m\u001b[0m_loop\u001b[0m\u001b[0;34m(\u001b[0m\u001b[0mtimeout\u001b[0m\u001b[0;34m)\u001b[0m\u001b[0;34m\u001b[0m\u001b[0;34m\u001b[0m\u001b[0m\n\u001b[0m\u001b[1;32m   2292\u001b[0m                 \u001b[0;31m# We don't need to worry about locking here, because we've\u001b[0m\u001b[0;34m\u001b[0m\u001b[0;34m\u001b[0m\u001b[0m\n\u001b[1;32m   2293\u001b[0m                 \u001b[0;31m# either called loop_forever() when in single threaded mode, or\u001b[0m\u001b[0;34m\u001b[0m\u001b[0;34m\u001b[0m\u001b[0m\n",
            "\u001b[0;32m/usr/local/lib/python3.10/dist-packages/paho/mqtt/client.py\u001b[0m in \u001b[0;36m_loop\u001b[0;34m(self, timeout)\u001b[0m\n\u001b[1;32m   1655\u001b[0m \u001b[0;34m\u001b[0m\u001b[0m\n\u001b[1;32m   1656\u001b[0m         \u001b[0;32mtry\u001b[0m\u001b[0;34m:\u001b[0m\u001b[0;34m\u001b[0m\u001b[0;34m\u001b[0m\u001b[0m\n\u001b[0;32m-> 1657\u001b[0;31m             \u001b[0msocklist\u001b[0m \u001b[0;34m=\u001b[0m \u001b[0mselect\u001b[0m\u001b[0;34m.\u001b[0m\u001b[0mselect\u001b[0m\u001b[0;34m(\u001b[0m\u001b[0mrlist\u001b[0m\u001b[0;34m,\u001b[0m \u001b[0mwlist\u001b[0m\u001b[0;34m,\u001b[0m \u001b[0;34m[\u001b[0m\u001b[0;34m]\u001b[0m\u001b[0;34m,\u001b[0m \u001b[0mtimeout\u001b[0m\u001b[0;34m)\u001b[0m\u001b[0;34m\u001b[0m\u001b[0;34m\u001b[0m\u001b[0m\n\u001b[0m\u001b[1;32m   1658\u001b[0m         \u001b[0;32mexcept\u001b[0m \u001b[0mTypeError\u001b[0m\u001b[0;34m:\u001b[0m\u001b[0;34m\u001b[0m\u001b[0;34m\u001b[0m\u001b[0m\n\u001b[1;32m   1659\u001b[0m             \u001b[0;31m# Socket isn't correct type, in likelihood connection is lost\u001b[0m\u001b[0;34m\u001b[0m\u001b[0;34m\u001b[0m\u001b[0m\n",
            "\u001b[0;31mKeyboardInterrupt\u001b[0m: "
          ]
        }
      ]
    }
  ]
}