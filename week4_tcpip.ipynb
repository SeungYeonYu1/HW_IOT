{
  "nbformat": 4,
  "nbformat_minor": 0,
  "metadata": {
    "colab": {
      "provenance": [],
      "authorship_tag": "ABX9TyMCXOLg0xIP+Gqxrewmj8mo",
      "include_colab_link": true
    },
    "kernelspec": {
      "name": "python3",
      "display_name": "Python 3"
    },
    "language_info": {
      "name": "python"
    }
  },
  "cells": [
    {
      "cell_type": "markdown",
      "metadata": {
        "id": "view-in-github",
        "colab_type": "text"
      },
      "source": [
        "<a href=\"https://colab.research.google.com/github/SeungYeonYu1/HW_IOT/blob/main/week4_tcpip.ipynb\" target=\"_parent\"><img src=\"https://colab.research.google.com/assets/colab-badge.svg\" alt=\"Open In Colab\"/></a>"
      ]
    },
    {
      "cell_type": "code",
      "source": [
        "import socket\n",
        "\n",
        "HOST = \"google.com\"\n",
        "PORT = 80\n",
        "TIMEOUT = 10  # 타임아웃 시간 (초)\n",
        "\n",
        "with socket.socket(socket.AF_INET, socket.SOCK_STREAM) as s: #소켓 만들기\n",
        "    s.settimeout(TIMEOUT)  # 타임아웃 설정\n",
        "    try:\n",
        "        s.connect((HOST, PORT))\n",
        "        s.sendall(b\"GET / HTTP/1.2\\n\\n\")\n",
        "        data = s.recv(1024)\n",
        "        print(f\"Received {data.decode('utf-8')}\")\n",
        "    except socket.timeout:\n",
        "        print(\"타임아웃: 서버로부터 응답을 받지 못했습니다.\")\n",
        "    except Exception as e:\n",
        "        print(f\"오류 발생: {e}\")\n"
      ],
      "metadata": {
        "colab": {
          "base_uri": "https://localhost:8080/"
        },
        "id": "mOC6GjlNR-GR",
        "outputId": "227d35d0-96b2-4fea-ed85-ab257910aaf0"
      },
      "execution_count": 16,
      "outputs": [
        {
          "output_type": "stream",
          "name": "stdout",
          "text": [
            "Received HTTP/1.1 200 OK\r\n",
            "Date: Thu, 28 Mar 2024 04:30:47 GMT\r\n",
            "Expires: -1\r\n",
            "Cache-Control: private, max-age=0\r\n",
            "Content-Type: text/html; charset=ISO-8859-1\r\n",
            "Content-Security-Policy-Report-Only: object-src 'none';base-uri 'self';script-src 'nonce-2rI79J6hxW5E18Go8nrQ1Q' 'strict-dynamic' 'report-sample' 'unsafe-eval' 'unsafe-inline' https: http:;report-uri https://csp.withgoogle.com/csp/gws/other-hp\r\n",
            "P3P: CP=\"This is not a P3P policy! See g.co/p3phelp for more info.\"\r\n",
            "Server: gws\r\n",
            "X-XSS-Protection: 0\r\n",
            "X-Frame-Options: SAMEORIGIN\r\n",
            "Set-Cookie: 1P_JAR=2024-03-28-04; expires=Sat, 27-Apr-2024 04:30:47 GMT; path=/; domain=.google.com; Secure\r\n",
            "Set-Cookie: AEC=Ae3NU9NJffraBsHkeOSmzl7hoeUYPUntqBg04DJ1RFY0gw2m-yL2Pju3X5k; expires=Tue, 24-Sep-2024 04:30:47 GMT; path=/; domain=.google.com; Secure; HttpOnly; SameSite=lax\r\n",
            "Set-Cookie: NID=512=lu8k6mu-ueOQIn7mjAwwMVsFT0VKF19rdrgNTuwNrxfSGsmDRrGFUfl0jBP4aT71QNeVNPThD7zXRoyROqPxQX0Nt6vAdRu-tMPysRWyqNHQKv2hsp5PIgOc-K-zZTwSpa9KeiC-lfqzuZm9BlXDdCIQPqFNj7LrfjpSAMwTtD8; expires=Fri, 27-Sep-20\n"
          ]
        }
      ]
    },
    {
      "cell_type": "code",
      "source": [
        "!curl ipecho.net/plain\n"
      ],
      "metadata": {
        "colab": {
          "base_uri": "https://localhost:8080/"
        },
        "id": "ClSvfDQHSBUC",
        "outputId": "a04372ae-49cb-4cca-ad1c-c78bdd46d6be"
      },
      "execution_count": 13,
      "outputs": [
        {
          "output_type": "stream",
          "name": "stdout",
          "text": [
            "34.74.47.139"
          ]
        }
      ]
    }
  ]
}