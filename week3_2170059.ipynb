{
  "nbformat": 4,
  "nbformat_minor": 0,
  "metadata": {
    "colab": {
      "provenance": [],
      "authorship_tag": "ABX9TyMO+iwHhmrp5Llsr4KLOLfP",
      "include_colab_link": true
    },
    "kernelspec": {
      "name": "python3",
      "display_name": "Python 3"
    },
    "language_info": {
      "name": "python"
    }
  },
  "cells": [
    {
      "cell_type": "markdown",
      "metadata": {
        "id": "view-in-github",
        "colab_type": "text"
      },
      "source": [
        "<a href=\"https://colab.research.google.com/github/SeungYeonYu1/HW_IOT/blob/main/week3_2170059.ipynb\" target=\"_parent\"><img src=\"https://colab.research.google.com/assets/colab-badge.svg\" alt=\"Open In Colab\"/></a>"
      ]
    },
    {
      "cell_type": "code",
      "execution_count": 13,
      "metadata": {
        "colab": {
          "base_uri": "https://localhost:8080/",
          "height": 975
        },
        "id": "rsFZ7biocEaU",
        "outputId": "4641c5db-e8e6-4738-d83e-bd2fd695fd4e"
      },
      "outputs": [
        {
          "output_type": "stream",
          "name": "stdout",
          "text": [
            "2024-03-18 03:05:00.204245 <statnNm>서울</statnNm> [<btrainSttus>일반</btrainSttus>, <btrainSttus>일반</btrainSttus>, <btrainSttus>일반</btrainSttus>, <btrainSttus>일반</btrainSttus>, <btrainSttus>일반</btrainSttus>] [<barvlDt>0</barvlDt>, <barvlDt>10</barvlDt>, <barvlDt>0</barvlDt>, <barvlDt>0</barvlDt>, <barvlDt>0</barvlDt>]\n",
            "2024-03-18 03:05:03.627518 <statnNm>서울</statnNm> [<btrainSttus>일반</btrainSttus>, <btrainSttus>일반</btrainSttus>, <btrainSttus>일반</btrainSttus>, <btrainSttus>일반</btrainSttus>, <btrainSttus>일반</btrainSttus>] [<barvlDt>0</barvlDt>, <barvlDt>10</barvlDt>, <barvlDt>0</barvlDt>, <barvlDt>0</barvlDt>, <barvlDt>0</barvlDt>]\n",
            "2024-03-18 03:05:07.019211 <statnNm>서울</statnNm> [<btrainSttus>일반</btrainSttus>, <btrainSttus>일반</btrainSttus>, <btrainSttus>일반</btrainSttus>, <btrainSttus>일반</btrainSttus>, <btrainSttus>일반</btrainSttus>] [<barvlDt>0</barvlDt>, <barvlDt>10</barvlDt>, <barvlDt>0</barvlDt>, <barvlDt>0</barvlDt>, <barvlDt>0</barvlDt>]\n",
            "2024-03-18 03:05:10.442474 <statnNm>서울</statnNm> [<btrainSttus>일반</btrainSttus>, <btrainSttus>일반</btrainSttus>, <btrainSttus>일반</btrainSttus>, <btrainSttus>일반</btrainSttus>, <btrainSttus>일반</btrainSttus>] [<barvlDt>0</barvlDt>, <barvlDt>10</barvlDt>, <barvlDt>0</barvlDt>, <barvlDt>0</barvlDt>, <barvlDt>0</barvlDt>]\n",
            "2024-03-18 03:05:13.832537 <statnNm>서울</statnNm> [<btrainSttus>일반</btrainSttus>, <btrainSttus>일반</btrainSttus>, <btrainSttus>일반</btrainSttus>, <btrainSttus>일반</btrainSttus>, <btrainSttus>일반</btrainSttus>] [<barvlDt>0</barvlDt>, <barvlDt>10</barvlDt>, <barvlDt>0</barvlDt>, <barvlDt>0</barvlDt>, <barvlDt>0</barvlDt>]\n",
            "2024-03-18 03:05:17.221233 <statnNm>서울</statnNm> [<btrainSttus>일반</btrainSttus>, <btrainSttus>일반</btrainSttus>, <btrainSttus>일반</btrainSttus>, <btrainSttus>일반</btrainSttus>, <btrainSttus>일반</btrainSttus>] [<barvlDt>0</barvlDt>, <barvlDt>10</barvlDt>, <barvlDt>0</barvlDt>, <barvlDt>0</barvlDt>, <barvlDt>0</barvlDt>]\n",
            "2024-03-18 03:05:20.613935 <statnNm>서울</statnNm> [<btrainSttus>일반</btrainSttus>, <btrainSttus>일반</btrainSttus>, <btrainSttus>일반</btrainSttus>, <btrainSttus>일반</btrainSttus>, <btrainSttus>일반</btrainSttus>] [<barvlDt>0</barvlDt>, <barvlDt>10</barvlDt>, <barvlDt>0</barvlDt>, <barvlDt>0</barvlDt>, <barvlDt>0</barvlDt>]\n",
            "2024-03-18 03:05:24.003165 <statnNm>서울</statnNm> [<btrainSttus>일반</btrainSttus>, <btrainSttus>일반</btrainSttus>, <btrainSttus>일반</btrainSttus>, <btrainSttus>일반</btrainSttus>, <btrainSttus>일반</btrainSttus>] [<barvlDt>0</barvlDt>, <barvlDt>10</barvlDt>, <barvlDt>0</barvlDt>, <barvlDt>0</barvlDt>, <barvlDt>0</barvlDt>]\n",
            "2024-03-18 03:05:27.393760 <statnNm>서울</statnNm> [<btrainSttus>일반</btrainSttus>, <btrainSttus>일반</btrainSttus>, <btrainSttus>일반</btrainSttus>, <btrainSttus>일반</btrainSttus>, <btrainSttus>일반</btrainSttus>] [<barvlDt>0</barvlDt>, <barvlDt>10</barvlDt>, <barvlDt>0</barvlDt>, <barvlDt>0</barvlDt>, <barvlDt>0</barvlDt>]\n",
            "2024-03-18 03:05:31.555497 <statnNm>서울</statnNm> [<btrainSttus>일반</btrainSttus>, <btrainSttus>일반</btrainSttus>, <btrainSttus>일반</btrainSttus>, <btrainSttus>일반</btrainSttus>, <btrainSttus>일반</btrainSttus>] [<barvlDt>0</barvlDt>, <barvlDt>10</barvlDt>, <barvlDt>0</barvlDt>, <barvlDt>0</barvlDt>, <barvlDt>0</barvlDt>]\n",
            "2024-03-18 03:05:34.985695 <statnNm>서울</statnNm> [<btrainSttus>일반</btrainSttus>, <btrainSttus>일반</btrainSttus>, <btrainSttus>일반</btrainSttus>, <btrainSttus>일반</btrainSttus>, <btrainSttus>일반</btrainSttus>] [<barvlDt>0</barvlDt>, <barvlDt>10</barvlDt>, <barvlDt>0</barvlDt>, <barvlDt>0</barvlDt>, <barvlDt>0</barvlDt>]\n",
            "2024-03-18 03:05:38.368768 <statnNm>서울</statnNm> [<btrainSttus>일반</btrainSttus>, <btrainSttus>일반</btrainSttus>, <btrainSttus>일반</btrainSttus>, <btrainSttus>일반</btrainSttus>, <btrainSttus>일반</btrainSttus>] [<barvlDt>0</barvlDt>, <barvlDt>10</barvlDt>, <barvlDt>0</barvlDt>, <barvlDt>150</barvlDt>, <barvlDt>0</barvlDt>]\n",
            "2024-03-18 03:05:41.752244 <statnNm>서울</statnNm> [<btrainSttus>일반</btrainSttus>, <btrainSttus>일반</btrainSttus>, <btrainSttus>일반</btrainSttus>, <btrainSttus>일반</btrainSttus>, <btrainSttus>일반</btrainSttus>] [<barvlDt>0</barvlDt>, <barvlDt>10</barvlDt>, <barvlDt>0</barvlDt>, <barvlDt>150</barvlDt>, <barvlDt>0</barvlDt>]\n",
            "2024-03-18 03:05:45.150362 <statnNm>서울</statnNm> [<btrainSttus>일반</btrainSttus>, <btrainSttus>일반</btrainSttus>, <btrainSttus>일반</btrainSttus>, <btrainSttus>일반</btrainSttus>, <btrainSttus>일반</btrainSttus>] [<barvlDt>0</barvlDt>, <barvlDt>10</barvlDt>, <barvlDt>0</barvlDt>, <barvlDt>150</barvlDt>, <barvlDt>0</barvlDt>]\n",
            "2024-03-18 03:05:48.585654 <statnNm>서울</statnNm> [<btrainSttus>일반</btrainSttus>, <btrainSttus>일반</btrainSttus>, <btrainSttus>일반</btrainSttus>, <btrainSttus>일반</btrainSttus>, <btrainSttus>일반</btrainSttus>] [<barvlDt>0</barvlDt>, <barvlDt>0</barvlDt>, <barvlDt>0</barvlDt>, <barvlDt>150</barvlDt>, <barvlDt>0</barvlDt>]\n",
            "2024-03-18 03:05:51.974840 <statnNm>서울</statnNm> [<btrainSttus>일반</btrainSttus>, <btrainSttus>일반</btrainSttus>, <btrainSttus>일반</btrainSttus>, <btrainSttus>일반</btrainSttus>, <btrainSttus>일반</btrainSttus>] [<barvlDt>0</barvlDt>, <barvlDt>0</barvlDt>, <barvlDt>0</barvlDt>, <barvlDt>150</barvlDt>, <barvlDt>0</barvlDt>]\n",
            "2024-03-18 03:05:55.375788 <statnNm>서울</statnNm> [<btrainSttus>일반</btrainSttus>, <btrainSttus>일반</btrainSttus>, <btrainSttus>일반</btrainSttus>, <btrainSttus>일반</btrainSttus>, <btrainSttus>일반</btrainSttus>] [<barvlDt>0</barvlDt>, <barvlDt>0</barvlDt>, <barvlDt>0</barvlDt>, <barvlDt>150</barvlDt>, <barvlDt>0</barvlDt>]\n",
            "2024-03-18 03:05:58.801816 <statnNm>서울</statnNm> [<btrainSttus>일반</btrainSttus>, <btrainSttus>일반</btrainSttus>, <btrainSttus>일반</btrainSttus>, <btrainSttus>일반</btrainSttus>, <btrainSttus>일반</btrainSttus>] [<barvlDt>0</barvlDt>, <barvlDt>0</barvlDt>, <barvlDt>0</barvlDt>, <barvlDt>150</barvlDt>, <barvlDt>0</barvlDt>]\n",
            "2024-03-18 03:06:02.954606 <statnNm>서울</statnNm> [<btrainSttus>일반</btrainSttus>, <btrainSttus>일반</btrainSttus>, <btrainSttus>일반</btrainSttus>, <btrainSttus>일반</btrainSttus>, <btrainSttus>일반</btrainSttus>] [<barvlDt>0</barvlDt>, <barvlDt>0</barvlDt>, <barvlDt>0</barvlDt>, <barvlDt>150</barvlDt>, <barvlDt>0</barvlDt>]\n",
            "2024-03-18 03:06:06.383308 <statnNm>서울</statnNm> [<btrainSttus>일반</btrainSttus>, <btrainSttus>일반</btrainSttus>, <btrainSttus>일반</btrainSttus>, <btrainSttus>일반</btrainSttus>, <btrainSttus>일반</btrainSttus>] [<barvlDt>0</barvlDt>, <barvlDt>0</barvlDt>, <barvlDt>0</barvlDt>, <barvlDt>150</barvlDt>, <barvlDt>0</barvlDt>]\n",
            "2024-03-18 03:06:09.767466 <statnNm>서울</statnNm> [<btrainSttus>일반</btrainSttus>, <btrainSttus>일반</btrainSttus>, <btrainSttus>일반</btrainSttus>, <btrainSttus>일반</btrainSttus>, <btrainSttus>일반</btrainSttus>] [<barvlDt>0</barvlDt>, <barvlDt>0</barvlDt>, <barvlDt>0</barvlDt>, <barvlDt>150</barvlDt>, <barvlDt>0</barvlDt>]\n",
            "2024-03-18 03:06:13.163841 <statnNm>서울</statnNm> [<btrainSttus>일반</btrainSttus>, <btrainSttus>일반</btrainSttus>, <btrainSttus>일반</btrainSttus>, <btrainSttus>일반</btrainSttus>, <btrainSttus>일반</btrainSttus>] [<barvlDt>0</barvlDt>, <barvlDt>0</barvlDt>, <barvlDt>0</barvlDt>, <barvlDt>150</barvlDt>, <barvlDt>0</barvlDt>]\n",
            "2024-03-18 03:06:16.553619 <statnNm>서울</statnNm> [<btrainSttus>일반</btrainSttus>, <btrainSttus>일반</btrainSttus>, <btrainSttus>일반</btrainSttus>, <btrainSttus>일반</btrainSttus>, <btrainSttus>일반</btrainSttus>] [<barvlDt>0</barvlDt>, <barvlDt>0</barvlDt>, <barvlDt>0</barvlDt>, <barvlDt>150</barvlDt>, <barvlDt>0</barvlDt>]\n",
            "2024-03-18 03:06:19.951068 <statnNm>서울</statnNm> [<btrainSttus>일반</btrainSttus>, <btrainSttus>일반</btrainSttus>, <btrainSttus>일반</btrainSttus>, <btrainSttus>일반</btrainSttus>, <btrainSttus>일반</btrainSttus>] [<barvlDt>0</barvlDt>, <barvlDt>0</barvlDt>, <barvlDt>0</barvlDt>, <barvlDt>150</barvlDt>, <barvlDt>0</barvlDt>]\n",
            "2024-03-18 03:06:23.342690 <statnNm>서울</statnNm> [<btrainSttus>일반</btrainSttus>, <btrainSttus>일반</btrainSttus>, <btrainSttus>일반</btrainSttus>, <btrainSttus>일반</btrainSttus>, <btrainSttus>일반</btrainSttus>] [<barvlDt>0</barvlDt>, <barvlDt>0</barvlDt>, <barvlDt>0</barvlDt>, <barvlDt>150</barvlDt>, <barvlDt>0</barvlDt>]\n",
            "2024-03-18 03:06:26.768844 <statnNm>서울</statnNm> [<btrainSttus>일반</btrainSttus>, <btrainSttus>일반</btrainSttus>, <btrainSttus>일반</btrainSttus>, <btrainSttus>일반</btrainSttus>, <btrainSttus>일반</btrainSttus>] [<barvlDt>0</barvlDt>, <barvlDt>0</barvlDt>, <barvlDt>0</barvlDt>, <barvlDt>150</barvlDt>, <barvlDt>0</barvlDt>]\n",
            "2024-03-18 03:06:30.199696 <statnNm>서울</statnNm> [<btrainSttus>일반</btrainSttus>, <btrainSttus>일반</btrainSttus>, <btrainSttus>일반</btrainSttus>, <btrainSttus>일반</btrainSttus>, <btrainSttus>일반</btrainSttus>] [<barvlDt>0</barvlDt>, <barvlDt>0</barvlDt>, <barvlDt>150</barvlDt>, <barvlDt>208</barvlDt>, <barvlDt>0</barvlDt>]\n",
            "2024-03-18 03:06:34.345663 <statnNm>서울</statnNm> [<btrainSttus>일반</btrainSttus>, <btrainSttus>일반</btrainSttus>, <btrainSttus>일반</btrainSttus>, <btrainSttus>일반</btrainSttus>, <btrainSttus>일반</btrainSttus>] [<barvlDt>0</barvlDt>, <barvlDt>0</barvlDt>, <barvlDt>150</barvlDt>, <barvlDt>208</barvlDt>, <barvlDt>0</barvlDt>]\n",
            "2024-03-18 03:06:37.728726 <statnNm>서울</statnNm> [<btrainSttus>일반</btrainSttus>, <btrainSttus>일반</btrainSttus>, <btrainSttus>일반</btrainSttus>, <btrainSttus>일반</btrainSttus>, <btrainSttus>일반</btrainSttus>] [<barvlDt>0</barvlDt>, <barvlDt>0</barvlDt>, <barvlDt>150</barvlDt>, <barvlDt>208</barvlDt>, <barvlDt>0</barvlDt>]\n",
            "2024-03-18 03:06:41.120605 <statnNm>서울</statnNm> [<btrainSttus>일반</btrainSttus>, <btrainSttus>일반</btrainSttus>, <btrainSttus>일반</btrainSttus>, <btrainSttus>일반</btrainSttus>, <btrainSttus>일반</btrainSttus>] [<barvlDt>0</barvlDt>, <barvlDt>0</barvlDt>, <barvlDt>150</barvlDt>, <barvlDt>208</barvlDt>, <barvlDt>0</barvlDt>]\n",
            "2024-03-18 03:06:44.547940 <statnNm>서울</statnNm> [<btrainSttus>일반</btrainSttus>, <btrainSttus>일반</btrainSttus>, <btrainSttus>일반</btrainSttus>, <btrainSttus>일반</btrainSttus>, <btrainSttus>일반</btrainSttus>] [<barvlDt>0</barvlDt>, <barvlDt>0</barvlDt>, <barvlDt>150</barvlDt>, <barvlDt>208</barvlDt>, <barvlDt>0</barvlDt>]\n",
            "2024-03-18 03:06:47.936786 <statnNm>서울</statnNm> [<btrainSttus>일반</btrainSttus>, <btrainSttus>일반</btrainSttus>, <btrainSttus>일반</btrainSttus>, <btrainSttus>일반</btrainSttus>, <btrainSttus>일반</btrainSttus>] [<barvlDt>0</barvlDt>, <barvlDt>0</barvlDt>, <barvlDt>150</barvlDt>, <barvlDt>208</barvlDt>, <barvlDt>0</barvlDt>]\n",
            "2024-03-18 03:06:51.329811 <statnNm>서울</statnNm> [<btrainSttus>일반</btrainSttus>, <btrainSttus>일반</btrainSttus>, <btrainSttus>일반</btrainSttus>, <btrainSttus>일반</btrainSttus>, <btrainSttus>일반</btrainSttus>] [<barvlDt>0</barvlDt>, <barvlDt>0</barvlDt>, <barvlDt>150</barvlDt>, <barvlDt>208</barvlDt>, <barvlDt>0</barvlDt>]\n",
            "2024-03-18 03:06:54.728718 <statnNm>서울</statnNm> [<btrainSttus>일반</btrainSttus>, <btrainSttus>일반</btrainSttus>, <btrainSttus>일반</btrainSttus>, <btrainSttus>일반</btrainSttus>, <btrainSttus>일반</btrainSttus>] [<barvlDt>0</barvlDt>, <barvlDt>0</barvlDt>, <barvlDt>150</barvlDt>, <barvlDt>208</barvlDt>, <barvlDt>0</barvlDt>]\n",
            "2024-03-18 03:06:58.153956 <statnNm>서울</statnNm> [<btrainSttus>일반</btrainSttus>, <btrainSttus>일반</btrainSttus>, <btrainSttus>일반</btrainSttus>, <btrainSttus>일반</btrainSttus>, <btrainSttus>일반</btrainSttus>] [<barvlDt>0</barvlDt>, <barvlDt>0</barvlDt>, <barvlDt>150</barvlDt>, <barvlDt>208</barvlDt>, <barvlDt>0</barvlDt>]\n",
            "2024-03-18 03:07:01.539404 <statnNm>서울</statnNm> [<btrainSttus>일반</btrainSttus>, <btrainSttus>일반</btrainSttus>, <btrainSttus>일반</btrainSttus>, <btrainSttus>일반</btrainSttus>, <btrainSttus>일반</btrainSttus>] [<barvlDt>0</barvlDt>, <barvlDt>0</barvlDt>, <barvlDt>150</barvlDt>, <barvlDt>208</barvlDt>, <barvlDt>0</barvlDt>]\n",
            "2024-03-18 03:07:05.528242 <statnNm>서울</statnNm> [<btrainSttus>일반</btrainSttus>, <btrainSttus>일반</btrainSttus>, <btrainSttus>일반</btrainSttus>, <btrainSttus>일반</btrainSttus>, <btrainSttus>일반</btrainSttus>] [<barvlDt>0</barvlDt>, <barvlDt>0</barvlDt>, <barvlDt>150</barvlDt>, <barvlDt>208</barvlDt>, <barvlDt>0</barvlDt>]\n",
            "2024-03-18 03:07:08.917418 <statnNm>서울</statnNm> [<btrainSttus>일반</btrainSttus>, <btrainSttus>일반</btrainSttus>, <btrainSttus>일반</btrainSttus>, <btrainSttus>일반</btrainSttus>, <btrainSttus>일반</btrainSttus>] [<barvlDt>0</barvlDt>, <barvlDt>150</barvlDt>, <barvlDt>0</barvlDt>, <barvlDt>208</barvlDt>, <barvlDt>0</barvlDt>]\n",
            "2024-03-18 03:07:12.309743 <statnNm>서울</statnNm> [<btrainSttus>일반</btrainSttus>, <btrainSttus>일반</btrainSttus>, <btrainSttus>일반</btrainSttus>, <btrainSttus>일반</btrainSttus>, <btrainSttus>일반</btrainSttus>] [<barvlDt>0</barvlDt>, <barvlDt>150</barvlDt>, <barvlDt>0</barvlDt>, <barvlDt>208</barvlDt>, <barvlDt>0</barvlDt>]\n",
            "2024-03-18 03:07:15.708541 <statnNm>서울</statnNm> [<btrainSttus>일반</btrainSttus>, <btrainSttus>일반</btrainSttus>, <btrainSttus>일반</btrainSttus>, <btrainSttus>일반</btrainSttus>, <btrainSttus>일반</btrainSttus>] [<barvlDt>0</barvlDt>, <barvlDt>150</barvlDt>, <barvlDt>0</barvlDt>, <barvlDt>208</barvlDt>, <barvlDt>0</barvlDt>]\n",
            "2024-03-18 03:07:19.135247 <statnNm>서울</statnNm> [<btrainSttus>일반</btrainSttus>, <btrainSttus>일반</btrainSttus>, <btrainSttus>일반</btrainSttus>, <btrainSttus>일반</btrainSttus>, <btrainSttus>일반</btrainSttus>] [<barvlDt>0</barvlDt>, <barvlDt>150</barvlDt>, <barvlDt>0</barvlDt>, <barvlDt>208</barvlDt>, <barvlDt>0</barvlDt>]\n",
            "2024-03-18 03:07:22.563726 <statnNm>서울</statnNm> [<btrainSttus>일반</btrainSttus>, <btrainSttus>일반</btrainSttus>, <btrainSttus>일반</btrainSttus>, <btrainSttus>일반</btrainSttus>, <btrainSttus>일반</btrainSttus>] [<barvlDt>0</barvlDt>, <barvlDt>150</barvlDt>, <barvlDt>0</barvlDt>, <barvlDt>208</barvlDt>, <barvlDt>0</barvlDt>]\n"
          ]
        },
        {
          "output_type": "error",
          "ename": "KeyboardInterrupt",
          "evalue": "",
          "traceback": [
            "\u001b[0;31m---------------------------------------------------------------------------\u001b[0m",
            "\u001b[0;31mKeyboardInterrupt\u001b[0m                         Traceback (most recent call last)",
            "\u001b[0;32m<ipython-input-13-0a28d49e201d>\u001b[0m in \u001b[0;36m<cell line: 6>\u001b[0;34m()\u001b[0m\n\u001b[1;32m      8\u001b[0m   \u001b[0msoup\u001b[0m \u001b[0;34m=\u001b[0m \u001b[0mBeautifulSoup\u001b[0m\u001b[0;34m(\u001b[0m\u001b[0mr\u001b[0m\u001b[0;34m.\u001b[0m\u001b[0mtext\u001b[0m\u001b[0;34m,\u001b[0m\u001b[0mfeatures\u001b[0m\u001b[0;34m=\u001b[0m\u001b[0;34m\"xml\"\u001b[0m\u001b[0;34m)\u001b[0m\u001b[0;34m\u001b[0m\u001b[0;34m\u001b[0m\u001b[0m\n\u001b[1;32m      9\u001b[0m   \u001b[0mprint\u001b[0m\u001b[0;34m(\u001b[0m\u001b[0mdatetime\u001b[0m\u001b[0;34m.\u001b[0m\u001b[0mnow\u001b[0m\u001b[0;34m(\u001b[0m\u001b[0;34m)\u001b[0m\u001b[0;34m,\u001b[0m \u001b[0msoup\u001b[0m\u001b[0;34m.\u001b[0m\u001b[0mselect_one\u001b[0m\u001b[0;34m(\u001b[0m\u001b[0;34m'statnNm'\u001b[0m\u001b[0;34m)\u001b[0m\u001b[0;34m,\u001b[0m\u001b[0msoup\u001b[0m\u001b[0;34m.\u001b[0m\u001b[0mfind_all\u001b[0m\u001b[0;34m(\u001b[0m\u001b[0;34m'btrainSttus'\u001b[0m\u001b[0;34m)\u001b[0m\u001b[0;34m,\u001b[0m\u001b[0msoup\u001b[0m\u001b[0;34m.\u001b[0m\u001b[0mfind_all\u001b[0m\u001b[0;34m(\u001b[0m\u001b[0;34m'barvlDt'\u001b[0m\u001b[0;34m)\u001b[0m\u001b[0;34m)\u001b[0m\u001b[0;34m\u001b[0m\u001b[0;34m\u001b[0m\u001b[0m\n\u001b[0;32m---> 10\u001b[0;31m   \u001b[0mtime\u001b[0m\u001b[0;34m.\u001b[0m\u001b[0msleep\u001b[0m\u001b[0;34m(\u001b[0m\u001b[0;36m3\u001b[0m\u001b[0;34m)\u001b[0m\u001b[0;34m\u001b[0m\u001b[0;34m\u001b[0m\u001b[0m\n\u001b[0m",
            "\u001b[0;31mKeyboardInterrupt\u001b[0m: "
          ]
        }
      ],
      "source": [
        "import requests\n",
        "from bs4 import BeautifulSoup\n",
        "import time\n",
        "from datetime import datetime\n",
        "\n",
        "while True:\n",
        "  r = requests.get('http://swopenAPI.seoul.go.kr/api/subway/426a494466796f7536366d57627a61/xml/realtimeStationArrival/0/5/서울')\n",
        "  soup = BeautifulSoup(r.text,features=\"xml\")\n",
        "  print(datetime.now(), soup.select_one('statnNm'),soup.select_one('btrainSttus'),soup.find_all('barvlDt'))\n",
        "  time.sleep(3)"
      ]
    }
  ]
}