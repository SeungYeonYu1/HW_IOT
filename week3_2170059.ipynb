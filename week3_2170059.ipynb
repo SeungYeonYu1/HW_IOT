{
  "nbformat": 4,
  "nbformat_minor": 0,
  "metadata": {
    "colab": {
      "provenance": [],
      "authorship_tag": "ABX9TyMO+iwHhmrp5Llsr4KLOLfP",
      "include_colab_link": true
    },
    "kernelspec": {
      "name": "python3",
      "display_name": "Python 3"
    },
    "language_info": {
      "name": "python"
    }
  },
  "cells": [
    {
      "cell_type": "markdown",
      "metadata": {
        "id": "view-in-github",
        "colab_type": "text"
      },
      "source": [
        "<a href=\"https://colab.research.google.com/github/SeungYeonYu1/HW_IOT/blob/main/week3_2170059.ipynb\" target=\"_parent\"><img src=\"https://colab.research.google.com/assets/colab-badge.svg\" alt=\"Open In Colab\"/></a>"
      ]
    },
    {
      "cell_type": "code",
      "execution_count": 16,
      "metadata": {
        "colab": {
          "base_uri": "https://localhost:8080/",
          "height": 569
        },
        "id": "rsFZ7biocEaU",
        "outputId": "537aa474-4fee-4d20-f1f5-4a20cebb7477"
      },
      "outputs": [
        {
          "output_type": "stream",
          "name": "stdout",
          "text": [
            "2024-03-18 03:10:24.572549 <statnNm>서울</statnNm> <btrainSttus>일반</btrainSttus> [<barvlDt>0</barvlDt>, <barvlDt>0</barvlDt>, <barvlDt>0</barvlDt>, <barvlDt>150</barvlDt>, <barvlDt>0</barvlDt>]\n",
            "2024-03-18 03:10:27.955461 <statnNm>서울</statnNm> <btrainSttus>일반</btrainSttus> [<barvlDt>0</barvlDt>, <barvlDt>0</barvlDt>, <barvlDt>0</barvlDt>, <barvlDt>150</barvlDt>, <barvlDt>0</barvlDt>]\n",
            "2024-03-18 03:10:31.346809 <statnNm>서울</statnNm> <btrainSttus>일반</btrainSttus> [<barvlDt>0</barvlDt>, <barvlDt>0</barvlDt>, <barvlDt>0</barvlDt>, <barvlDt>150</barvlDt>, <barvlDt>0</barvlDt>]\n",
            "2024-03-18 03:10:34.730483 <statnNm>서울</statnNm> <btrainSttus>일반</btrainSttus> [<barvlDt>0</barvlDt>, <barvlDt>0</barvlDt>, <barvlDt>0</barvlDt>, <barvlDt>150</barvlDt>, <barvlDt>0</barvlDt>]\n",
            "2024-03-18 03:10:38.789682 <statnNm>서울</statnNm> <btrainSttus>일반</btrainSttus> [<barvlDt>0</barvlDt>, <barvlDt>0</barvlDt>, <barvlDt>150</barvlDt>, <barvlDt>208</barvlDt>, <barvlDt>0</barvlDt>]\n",
            "2024-03-18 03:10:42.179277 <statnNm>서울</statnNm> <btrainSttus>일반</btrainSttus> [<barvlDt>0</barvlDt>, <barvlDt>0</barvlDt>, <barvlDt>150</barvlDt>, <barvlDt>208</barvlDt>, <barvlDt>0</barvlDt>]\n",
            "2024-03-18 03:10:45.631641 <statnNm>서울</statnNm> <btrainSttus>일반</btrainSttus> [<barvlDt>0</barvlDt>, <barvlDt>0</barvlDt>, <barvlDt>150</barvlDt>, <barvlDt>208</barvlDt>, <barvlDt>0</barvlDt>]\n",
            "2024-03-18 03:10:49.019296 <statnNm>서울</statnNm> <btrainSttus>일반</btrainSttus> [<barvlDt>0</barvlDt>, <barvlDt>0</barvlDt>, <barvlDt>150</barvlDt>, <barvlDt>208</barvlDt>, <barvlDt>0</barvlDt>]\n",
            "2024-03-18 03:10:52.439074 <statnNm>서울</statnNm> <btrainSttus>일반</btrainSttus> [<barvlDt>0</barvlDt>, <barvlDt>0</barvlDt>, <barvlDt>150</barvlDt>, <barvlDt>208</barvlDt>, <barvlDt>0</barvlDt>]\n",
            "2024-03-18 03:10:55.860667 <statnNm>서울</statnNm> <btrainSttus>일반</btrainSttus> [<barvlDt>0</barvlDt>, <barvlDt>0</barvlDt>, <barvlDt>150</barvlDt>, <barvlDt>208</barvlDt>, <barvlDt>0</barvlDt>]\n",
            "2024-03-18 03:10:59.251768 <statnNm>서울</statnNm> <btrainSttus>일반</btrainSttus> [<barvlDt>0</barvlDt>, <barvlDt>0</barvlDt>, <barvlDt>150</barvlDt>, <barvlDt>208</barvlDt>, <barvlDt>0</barvlDt>]\n",
            "2024-03-18 03:11:02.637728 <statnNm>서울</statnNm> <btrainSttus>일반</btrainSttus> [<barvlDt>0</barvlDt>, <barvlDt>0</barvlDt>, <barvlDt>150</barvlDt>, <barvlDt>208</barvlDt>, <barvlDt>0</barvlDt>]\n",
            "2024-03-18 03:11:06.065563 <statnNm>서울</statnNm> <btrainSttus>일반</btrainSttus> [<barvlDt>0</barvlDt>, <barvlDt>0</barvlDt>, <barvlDt>150</barvlDt>, <barvlDt>208</barvlDt>, <barvlDt>0</barvlDt>]\n",
            "2024-03-18 03:11:10.252482 <statnNm>서울</statnNm> <btrainSttus>일반</btrainSttus> [<barvlDt>0</barvlDt>, <barvlDt>0</barvlDt>, <barvlDt>0</barvlDt>, <barvlDt>115</barvlDt>, <barvlDt>150</barvlDt>]\n",
            "2024-03-18 03:11:13.641612 <statnNm>서울</statnNm> <btrainSttus>일반</btrainSttus> [<barvlDt>0</barvlDt>, <barvlDt>0</barvlDt>, <barvlDt>0</barvlDt>, <barvlDt>115</barvlDt>, <barvlDt>150</barvlDt>]\n",
            "2024-03-18 03:11:17.067303 <statnNm>서울</statnNm> <btrainSttus>일반</btrainSttus> [<barvlDt>0</barvlDt>, <barvlDt>0</barvlDt>, <barvlDt>0</barvlDt>, <barvlDt>115</barvlDt>, <barvlDt>150</barvlDt>]\n",
            "2024-03-18 03:11:20.461965 <statnNm>서울</statnNm> <btrainSttus>일반</btrainSttus> [<barvlDt>0</barvlDt>, <barvlDt>0</barvlDt>, <barvlDt>0</barvlDt>, <barvlDt>115</barvlDt>, <barvlDt>150</barvlDt>]\n",
            "2024-03-18 03:11:23.853388 <statnNm>서울</statnNm> <btrainSttus>일반</btrainSttus> [<barvlDt>0</barvlDt>, <barvlDt>0</barvlDt>, <barvlDt>0</barvlDt>, <barvlDt>115</barvlDt>, <barvlDt>150</barvlDt>]\n",
            "2024-03-18 03:11:27.245000 <statnNm>서울</statnNm> <btrainSttus>일반</btrainSttus> [<barvlDt>0</barvlDt>, <barvlDt>0</barvlDt>, <barvlDt>0</barvlDt>, <barvlDt>115</barvlDt>, <barvlDt>150</barvlDt>]\n",
            "2024-03-18 03:11:30.633628 <statnNm>서울</statnNm> <btrainSttus>일반</btrainSttus> [<barvlDt>0</barvlDt>, <barvlDt>0</barvlDt>, <barvlDt>0</barvlDt>, <barvlDt>115</barvlDt>, <barvlDt>150</barvlDt>]\n",
            "2024-03-18 03:11:34.016144 <statnNm>서울</statnNm> <btrainSttus>일반</btrainSttus> [<barvlDt>0</barvlDt>, <barvlDt>0</barvlDt>, <barvlDt>0</barvlDt>, <barvlDt>115</barvlDt>, <barvlDt>150</barvlDt>]\n"
          ]
        },
        {
          "output_type": "error",
          "ename": "KeyboardInterrupt",
          "evalue": "",
          "traceback": [
            "\u001b[0;31m---------------------------------------------------------------------------\u001b[0m",
            "\u001b[0;31mKeyboardInterrupt\u001b[0m                         Traceback (most recent call last)",
            "\u001b[0;32m<ipython-input-16-f5b7bdf8cef8>\u001b[0m in \u001b[0;36m<cell line: 6>\u001b[0;34m()\u001b[0m\n\u001b[1;32m      8\u001b[0m   \u001b[0msoup\u001b[0m \u001b[0;34m=\u001b[0m \u001b[0mBeautifulSoup\u001b[0m\u001b[0;34m(\u001b[0m\u001b[0mr\u001b[0m\u001b[0;34m.\u001b[0m\u001b[0mtext\u001b[0m\u001b[0;34m,\u001b[0m\u001b[0mfeatures\u001b[0m\u001b[0;34m=\u001b[0m\u001b[0;34m\"xml\"\u001b[0m\u001b[0;34m)\u001b[0m\u001b[0;34m\u001b[0m\u001b[0;34m\u001b[0m\u001b[0m\n\u001b[1;32m      9\u001b[0m   \u001b[0mprint\u001b[0m\u001b[0;34m(\u001b[0m\u001b[0mdatetime\u001b[0m\u001b[0;34m.\u001b[0m\u001b[0mnow\u001b[0m\u001b[0;34m(\u001b[0m\u001b[0;34m)\u001b[0m\u001b[0;34m,\u001b[0m \u001b[0msoup\u001b[0m\u001b[0;34m.\u001b[0m\u001b[0mselect_one\u001b[0m\u001b[0;34m(\u001b[0m\u001b[0;34m'statnNm'\u001b[0m\u001b[0;34m)\u001b[0m\u001b[0;34m,\u001b[0m\u001b[0msoup\u001b[0m\u001b[0;34m.\u001b[0m\u001b[0mselect_one\u001b[0m\u001b[0;34m(\u001b[0m\u001b[0;34m'btrainSttus'\u001b[0m\u001b[0;34m)\u001b[0m\u001b[0;34m,\u001b[0m\u001b[0msoup\u001b[0m\u001b[0;34m.\u001b[0m\u001b[0mfind_all\u001b[0m\u001b[0;34m(\u001b[0m\u001b[0;34m'barvlDt'\u001b[0m\u001b[0;34m)\u001b[0m\u001b[0;34m)\u001b[0m\u001b[0;34m\u001b[0m\u001b[0;34m\u001b[0m\u001b[0m\n\u001b[0;32m---> 10\u001b[0;31m   \u001b[0mtime\u001b[0m\u001b[0;34m.\u001b[0m\u001b[0msleep\u001b[0m\u001b[0;34m(\u001b[0m\u001b[0;36m3\u001b[0m\u001b[0;34m)\u001b[0m\u001b[0;34m\u001b[0m\u001b[0;34m\u001b[0m\u001b[0m\n\u001b[0m",
            "\u001b[0;31mKeyboardInterrupt\u001b[0m: "
          ]
        }
      ],
      "source": [
        "import requests\n",
        "from bs4 import BeautifulSoup\n",
        "import time\n",
        "from datetime import datetime\n",
        "\n",
        "while True:\n",
        "  r = requests.get('http://swopenAPI.seoul.go.kr/api/subway/426a494466796f7536366d57627a61/xml/realtimeStationArrival/0/5/서울')\n",
        "  soup = BeautifulSoup(r.text,features=\"xml\")\n",
        "  print(datetime.now(), soup.select_one('statnNm'),soup.select_one('btrainSttus'),soup.find_all('barvlDt'))\n",
        "  time.sleep(3)"
      ]
    }
  ]
}