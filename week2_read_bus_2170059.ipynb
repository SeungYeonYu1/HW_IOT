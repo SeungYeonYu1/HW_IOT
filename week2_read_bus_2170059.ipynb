{
  "nbformat": 4,
  "nbformat_minor": 0,
  "metadata": {
    "colab": {
      "provenance": [],
      "authorship_tag": "ABX9TyNLc9XKykQwvaB0gRK/CbCI",
      "include_colab_link": true
    },
    "kernelspec": {
      "name": "python3",
      "display_name": "Python 3"
    },
    "language_info": {
      "name": "python"
    }
  },
  "cells": [
    {
      "cell_type": "markdown",
      "metadata": {
        "id": "view-in-github",
        "colab_type": "text"
      },
      "source": [
        "<a href=\"https://colab.research.google.com/github/SeungYeonYu1/HW_IOT/blob/main/week2_read_bus_2170059.ipynb\" target=\"_parent\"><img src=\"https://colab.research.google.com/assets/colab-badge.svg\" alt=\"Open In Colab\"/></a>"
      ]
    },
    {
      "cell_type": "code",
      "source": [
        "import requests\n",
        "url='http://openapi.gbis.go.kr/ws/rest/buslocationservice?serviceKey=1234567890&routeId=232000092'\n",
        "r = requests.get(url)\n",
        "print(r.text)"
      ],
      "metadata": {
        "colab": {
          "base_uri": "https://localhost:8080/"
        },
        "id": "zE8G04jHWDRW",
        "outputId": "573cc0c5-d064-438a-be8c-bdf1c6a224fc"
      },
      "execution_count": null,
      "outputs": [
        {
          "output_type": "stream",
          "name": "stdout",
          "text": [
            "<?xml version=\"1.0\" encoding=\"UTF-8\" standalone=\"yes\"?><response><comMsgHeader/><msgHeader><queryTime>2024-03-16 17:34:15.959</queryTime><resultCode>0</resultCode><resultMessage>정상적으로 처리되었습니다.</resultMessage></msgHeader><msgBody><busLocationList><endBus>0</endBus><lowPlate>0</lowPlate><plateNo>경기79바9384</plateNo><plateType>3</plateType><remainSeatCnt>57</remainSeatCnt><routeId>232000092</routeId><stationId>277103403</stationId><stationSeq>19</stationSeq></busLocationList><busLocationList><endBus>0</endBus><lowPlate>0</lowPlate><plateNo>경기79바9389</plateNo><plateType>4</plateType><remainSeatCnt>53</remainSeatCnt><routeId>232000092</routeId><stationId>277104623</stationId><stationSeq>18</stationSeq></busLocationList><busLocationList><endBus>0</endBus><lowPlate>0</lowPlate><plateNo>경기79바9380</plateNo><plateType>3</plateType><remainSeatCnt>57</remainSeatCnt><routeId>232000092</routeId><stationId>277104632</stationId><stationSeq>13</stationSeq></busLocationList><busLocationList><endBus>0</endBus><lowPlate>0</lowPlate><plateNo>경기79바9366</plateNo><plateType>3</plateType><remainSeatCnt>27</remainSeatCnt><routeId>232000092</routeId><stationId>277102738</stationId><stationSeq>28</stationSeq></busLocationList><busLocationList><endBus>0</endBus><lowPlate>0</lowPlate><plateNo>경기79바9386</plateNo><plateType>4</plateType><remainSeatCnt>57</remainSeatCnt><routeId>232000092</routeId><stationId>232000781</stationId><stationSeq>34</stationSeq></busLocationList><busLocationList><endBus>0</endBus><lowPlate>0</lowPlate><plateNo>경기79바9391</plateNo><plateType>4</plateType><remainSeatCnt>66</remainSeatCnt><routeId>232000092</routeId><stationId>232000777</stationId><stationSeq>9</stationSeq></busLocationList><busLocationList><endBus>0</endBus><lowPlate>0</lowPlate><plateNo>경기79바9387</plateNo><plateType>4</plateType><remainSeatCnt>55</remainSeatCnt><routeId>232000092</routeId><stationId>277103401</stationId><stationSeq>26</stationSeq></busLocationList><busLocationList><endBus>0</endBus><lowPlate>0</lowPlate><plateNo>경기79바9388</plateNo><plateType>4</plateType><remainSeatCnt>71</remainSeatCnt><routeId>232000092</routeId><stationId>232000705</stationId><stationSeq>38</stationSeq></busLocationList><busLocationList><endBus>0</endBus><lowPlate>0</lowPlate><plateNo>경기79바9390</plateNo><plateType>4</plateType><remainSeatCnt>61</remainSeatCnt><routeId>232000092</routeId><stationId>277102737</stationId><stationSeq>15</stationSeq></busLocationList><busLocationList><endBus>0</endBus><lowPlate>0</lowPlate><plateNo>경기79바9392</plateNo><plateType>4</plateType><remainSeatCnt>72</remainSeatCnt><routeId>232000092</routeId><stationId>232000558</stationId><stationSeq>2</stationSeq></busLocationList><busLocationList><endBus>0</endBus><lowPlate>0</lowPlate><plateNo>경기79바9385</plateNo><plateType>4</plateType><remainSeatCnt>45</remainSeatCnt><routeId>232000092</routeId><stationId>118000501</stationId><stationSeq>22</stationSeq></busLocationList></msgBody></response>\n"
          ]
        }
      ]
    },
    {
      "cell_type": "code",
      "source": [
        "from bs4 import BeautifulSoup\n",
        "\n",
        "soup = BeautifulSoup(r.text, features=\"xml\")"
      ],
      "metadata": {
        "id": "1_J1ij67Xag4"
      },
      "execution_count": null,
      "outputs": []
    },
    {
      "cell_type": "code",
      "source": [
        "soup.find_all('stationId')"
      ],
      "metadata": {
        "colab": {
          "base_uri": "https://localhost:8080/"
        },
        "id": "ymP2M-CKXbIN",
        "outputId": "26499b89-549b-42f2-98ea-e7183c1fe9a5"
      },
      "execution_count": null,
      "outputs": [
        {
          "output_type": "execute_result",
          "data": {
            "text/plain": [
              "[<stationId>277103403</stationId>,\n",
              " <stationId>277104623</stationId>,\n",
              " <stationId>277104632</stationId>,\n",
              " <stationId>277102738</stationId>,\n",
              " <stationId>232000781</stationId>,\n",
              " <stationId>232000777</stationId>,\n",
              " <stationId>277103401</stationId>,\n",
              " <stationId>232000705</stationId>,\n",
              " <stationId>277102737</stationId>,\n",
              " <stationId>232000558</stationId>,\n",
              " <stationId>118000501</stationId>]"
            ]
          },
          "metadata": {},
          "execution_count": 14
        }
      ]
    }
  ]
}